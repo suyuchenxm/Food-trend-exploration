{
 "cells": [
  {
   "cell_type": "markdown",
   "metadata": {},
   "source": [
    "## Text Mining from Twitter tweets\n",
    "\n",
    "- Connect to the Twitter API\n",
    "- Conditioned on region, keywords:'keto', 'keto diet', 'keto beverage', 'keto drinks', 'keto snacks'"
   ]
  },
  {
   "cell_type": "code",
   "execution_count": 349,
   "metadata": {},
   "outputs": [],
   "source": [
    "import tweepy as tw\n",
    "from tweepy.streaming import StreamListener\n",
    "from tweepy import OAuthHandler\n",
    "from tweepy import Stream\n",
    "\n",
    "import numpy as np\n",
    "import pandas as pd\n",
    "import matplotlib.pyplot as plt\n",
    "import seaborn as sns\n",
    "import itertools\n",
    "import collections\n",
    "\n",
    "import nltk\n",
    "from nltk.corpus import stopwords\n",
    "import re\n",
    "\n",
    "import warnings\n",
    "warnings.filterwarnings(\"ignore\")\n"
   ]
  },
  {
   "cell_type": "code",
   "execution_count": 56,
   "metadata": {},
   "outputs": [],
   "source": [
    "#Variables that contains the user credentials to access Twitter API \n",
    "access_token = \"1120245592708538368-A7MFOXpqB5LglqLJYq5lptoKjO1aiC\"\n",
    "access_token_secret = \"v09lnFfGqrCHso0JKzKtTdbzWo1AzeqgYhoUR50Z5nwGg\"\n",
    "consumer_key = \"hScE32UwDNeVZ8Tu9MvUUTziL\"\n",
    "consumer_secret = \"SPiGlQDXmtaLOSMCF2v50h5nzK9aHE7qURRjSPaz9ieVIOx0zh\"\n",
    "\n",
    "auth =tw.OAuthHandler(consumer_key, consumer_secret)\n",
    "auth.set_access_token(access_token, access_token_secret)\n",
    "api = tw.API(auth, wait_on_rate_limit=True)"
   ]
  },
  {
   "cell_type": "code",
   "execution_count": 120,
   "metadata": {},
   "outputs": [],
   "source": [
    "search_words=['#keto' , '#ketodiet', '#ketosnacks', '#ketofood','#ketobeverage']\n",
    "date_since='2019-04-16'\n",
    "idx=0"
   ]
  },
  {
   "cell_type": "code",
   "execution_count": 314,
   "metadata": {},
   "outputs": [],
   "source": [
    "tweets=tw.Cursor(api.search,\n",
    "                 q='keto OR ketodiet OR ketosnacks OR ketofood OR ketobeverage -filter:retweets',\n",
    "                 lang='en',since=date_since).items(2000)"
   ]
  },
  {
   "cell_type": "code",
   "execution_count": 305,
   "metadata": {},
   "outputs": [],
   "source": [
    "#tweet.retweets()[2].text"
   ]
  },
  {
   "cell_type": "code",
   "execution_count": 315,
   "metadata": {},
   "outputs": [],
   "source": [
    "text_df=pd.DataFrame(columns=['time','text'])\n",
    "hashtags_dict={}"
   ]
  },
  {
   "cell_type": "code",
   "execution_count": 316,
   "metadata": {},
   "outputs": [],
   "source": [
    "def ziphashtag(tw,hashtags_dict):\n",
    "    for tag in tw.entities['hashtags']:\n",
    "        if tag['text'] in hashtags_dict.keys():\n",
    "            hashtags_dict[tag['text']]+=1\n",
    "        else:\n",
    "            hashtags_dict[tag['text']]=1\n",
    "    return hashtags_dict"
   ]
  },
  {
   "cell_type": "code",
   "execution_count": 317,
   "metadata": {},
   "outputs": [],
   "source": [
    "text_df.loc[len(text_df),['time','text']]=tweet.created_at,tweet.text"
   ]
  },
  {
   "cell_type": "code",
   "execution_count": 318,
   "metadata": {},
   "outputs": [],
   "source": [
    "for tweet in tweets:\n",
    "    text_df.loc[len(text_df),['time','text']]=tweet.created_at,tweet.text\n",
    "    hashtags_dict=ziphashtag(tweet,hashtags_dict)"
   ]
  },
  {
   "cell_type": "code",
   "execution_count": 322,
   "metadata": {},
   "outputs": [
    {
     "data": {
      "text/html": [
       "<div>\n",
       "<style scoped>\n",
       "    .dataframe tbody tr th:only-of-type {\n",
       "        vertical-align: middle;\n",
       "    }\n",
       "\n",
       "    .dataframe tbody tr th {\n",
       "        vertical-align: top;\n",
       "    }\n",
       "\n",
       "    .dataframe thead th {\n",
       "        text-align: right;\n",
       "    }\n",
       "</style>\n",
       "<table border=\"1\" class=\"dataframe\">\n",
       "  <thead>\n",
       "    <tr style=\"text-align: right;\">\n",
       "      <th></th>\n",
       "      <th>time</th>\n",
       "      <th>text</th>\n",
       "    </tr>\n",
       "  </thead>\n",
       "  <tbody>\n",
       "    <tr>\n",
       "      <th>0</th>\n",
       "      <td>2019-04-19 11:46:57</td>\n",
       "      <td>Keto Wine, Anyone? 🍷🍾 + Lolli’s Low Carb Grano...</td>\n",
       "    </tr>\n",
       "    <tr>\n",
       "      <th>1</th>\n",
       "      <td>2019-04-22 11:42:55</td>\n",
       "      <td>Sitting on the patio enjoying my Keto Coffee a...</td>\n",
       "    </tr>\n",
       "    <tr>\n",
       "      <th>2</th>\n",
       "      <td>2019-04-22 11:42:26</td>\n",
       "      <td>@ItsSempleAsThat Did keto work for you?</td>\n",
       "    </tr>\n",
       "    <tr>\n",
       "      <th>3</th>\n",
       "      <td>2019-04-22 11:41:52</td>\n",
       "      <td>Keto Raspberry Cookies Recipe https://t.co/4BQ...</td>\n",
       "    </tr>\n",
       "    <tr>\n",
       "      <th>4</th>\n",
       "      <td>2019-04-22 11:40:27</td>\n",
       "      <td>Give this a share if you like it. Keto Diet Lo...</td>\n",
       "    </tr>\n",
       "  </tbody>\n",
       "</table>\n",
       "</div>"
      ],
      "text/plain": [
       "                  time                                               text\n",
       "0  2019-04-19 11:46:57  Keto Wine, Anyone? 🍷🍾 + Lolli’s Low Carb Grano...\n",
       "1  2019-04-22 11:42:55  Sitting on the patio enjoying my Keto Coffee a...\n",
       "2  2019-04-22 11:42:26            @ItsSempleAsThat Did keto work for you?\n",
       "3  2019-04-22 11:41:52  Keto Raspberry Cookies Recipe https://t.co/4BQ...\n",
       "4  2019-04-22 11:40:27  Give this a share if you like it. Keto Diet Lo..."
      ]
     },
     "execution_count": 322,
     "metadata": {},
     "output_type": "execute_result"
    }
   ],
   "source": [
    "text_df.head()"
   ]
  },
  {
   "cell_type": "code",
   "execution_count": 342,
   "metadata": {},
   "outputs": [],
   "source": [
    "hash_df=pd.DataFrame(hashtags_dict.items(),columns=['hashtag','numbers'])"
   ]
  },
  {
   "cell_type": "code",
   "execution_count": 346,
   "metadata": {},
   "outputs": [
    {
     "data": {
      "text/html": [
       "<div>\n",
       "<style scoped>\n",
       "    .dataframe tbody tr th:only-of-type {\n",
       "        vertical-align: middle;\n",
       "    }\n",
       "\n",
       "    .dataframe tbody tr th {\n",
       "        vertical-align: top;\n",
       "    }\n",
       "\n",
       "    .dataframe thead th {\n",
       "        text-align: right;\n",
       "    }\n",
       "</style>\n",
       "<table border=\"1\" class=\"dataframe\">\n",
       "  <thead>\n",
       "    <tr style=\"text-align: right;\">\n",
       "      <th></th>\n",
       "      <th>hashtag</th>\n",
       "      <th>numbers</th>\n",
       "    </tr>\n",
       "  </thead>\n",
       "  <tbody>\n",
       "    <tr>\n",
       "      <th>0</th>\n",
       "      <td>Easter</td>\n",
       "      <td>5</td>\n",
       "    </tr>\n",
       "    <tr>\n",
       "      <th>1</th>\n",
       "      <td>GameofThrones</td>\n",
       "      <td>2</td>\n",
       "    </tr>\n",
       "    <tr>\n",
       "      <th>2</th>\n",
       "      <td>lowcarb</td>\n",
       "      <td>71</td>\n",
       "    </tr>\n",
       "    <tr>\n",
       "      <th>3</th>\n",
       "      <td>diabetes</td>\n",
       "      <td>3</td>\n",
       "    </tr>\n",
       "    <tr>\n",
       "      <th>4</th>\n",
       "      <td>typeonegrit</td>\n",
       "      <td>1</td>\n",
       "    </tr>\n",
       "  </tbody>\n",
       "</table>\n",
       "</div>"
      ],
      "text/plain": [
       "         hashtag  numbers\n",
       "0         Easter        5\n",
       "1  GameofThrones        2\n",
       "2        lowcarb       71\n",
       "3       diabetes        3\n",
       "4    typeonegrit        1"
      ]
     },
     "execution_count": 346,
     "metadata": {},
     "output_type": "execute_result"
    }
   ],
   "source": [
    "hash_df.head()"
   ]
  },
  {
   "cell_type": "markdown",
   "metadata": {},
   "source": [
    "### Word Frequency Counts\n",
    "- Crean the Tweets Text\n",
    "    - Remove URL\n",
    "    - Remove the differences in case\n",
    "    - Remove search keywords\n",
    "    - Remove the stop word\n",
    "- Summarize and count words found"
   ]
  },
  {
   "cell_type": "code",
   "execution_count": 356,
   "metadata": {},
   "outputs": [],
   "source": [
    "def remove_url(txt):\n",
    "    \"\"\"Replace URLs found in a text string with nothing \n",
    "    txt : string\n",
    "        A text string that you want to parse and remove urls.\n",
    "    Returns:\n",
    "    The same txt string with url's removed.\n",
    "    \"\"\"\n",
    "    return \" \".join(re.sub(\"([^0-9A-Za-z \\t])|(\\w+:\\/\\/\\S+)\", \"\", txt).split()).lower()"
   ]
  },
  {
   "cell_type": "code",
   "execution_count": 357,
   "metadata": {},
   "outputs": [],
   "source": [
    "text_df['text']=text_df['text'].apply(remove_url,)"
   ]
  },
  {
   "cell_type": "code",
   "execution_count": 359,
   "metadata": {},
   "outputs": [
    {
     "data": {
      "text/html": [
       "<div>\n",
       "<style scoped>\n",
       "    .dataframe tbody tr th:only-of-type {\n",
       "        vertical-align: middle;\n",
       "    }\n",
       "\n",
       "    .dataframe tbody tr th {\n",
       "        vertical-align: top;\n",
       "    }\n",
       "\n",
       "    .dataframe thead th {\n",
       "        text-align: right;\n",
       "    }\n",
       "</style>\n",
       "<table border=\"1\" class=\"dataframe\">\n",
       "  <thead>\n",
       "    <tr style=\"text-align: right;\">\n",
       "      <th></th>\n",
       "      <th>time</th>\n",
       "      <th>text</th>\n",
       "    </tr>\n",
       "  </thead>\n",
       "  <tbody>\n",
       "    <tr>\n",
       "      <th>0</th>\n",
       "      <td>2019-04-19 11:46:57</td>\n",
       "      <td>keto wine anyone lollis low carb granola is 20...</td>\n",
       "    </tr>\n",
       "    <tr>\n",
       "      <th>1</th>\n",
       "      <td>2019-04-22 11:42:55</td>\n",
       "      <td>sitting on the patio enjoying my keto coffee a...</td>\n",
       "    </tr>\n",
       "    <tr>\n",
       "      <th>2</th>\n",
       "      <td>2019-04-22 11:42:26</td>\n",
       "      <td>itssempleasthat did keto work for you</td>\n",
       "    </tr>\n",
       "    <tr>\n",
       "      <th>3</th>\n",
       "      <td>2019-04-22 11:41:52</td>\n",
       "      <td>keto raspberry cookies recipe</td>\n",
       "    </tr>\n",
       "    <tr>\n",
       "      <th>4</th>\n",
       "      <td>2019-04-22 11:40:27</td>\n",
       "      <td>give this a share if you like it keto diet lon...</td>\n",
       "    </tr>\n",
       "  </tbody>\n",
       "</table>\n",
       "</div>"
      ],
      "text/plain": [
       "                  time                                               text\n",
       "0  2019-04-19 11:46:57  keto wine anyone lollis low carb granola is 20...\n",
       "1  2019-04-22 11:42:55  sitting on the patio enjoying my keto coffee a...\n",
       "2  2019-04-22 11:42:26              itssempleasthat did keto work for you\n",
       "3  2019-04-22 11:41:52                      keto raspberry cookies recipe\n",
       "4  2019-04-22 11:40:27  give this a share if you like it keto diet lon..."
      ]
     },
     "execution_count": 359,
     "metadata": {},
     "output_type": "execute_result"
    }
   ],
   "source": [
    "text_df.head()"
   ]
  },
  {
   "cell_type": "code",
   "execution_count": 388,
   "metadata": {},
   "outputs": [],
   "source": [
    "words=pd.Series(' '.join(text_df['text']).split()).value_counts()"
   ]
  },
  {
   "cell_type": "code",
   "execution_count": 407,
   "metadata": {},
   "outputs": [
    {
     "data": {
      "text/plain": [
       "keto    1646\n",
       "the      685\n",
       "and      602\n",
       "i        580\n",
       "to       556\n",
       "a        542\n",
       "diet     419\n",
       "for      364\n",
       "on       359\n",
       "is       359\n",
       "dtype: int64"
      ]
     },
     "execution_count": 407,
     "metadata": {},
     "output_type": "execute_result"
    }
   ],
   "source": [
    "words.head(10)"
   ]
  },
  {
   "cell_type": "code",
   "execution_count": 370,
   "metadata": {},
   "outputs": [
    {
     "name": "stderr",
     "output_type": "stream",
     "text": [
      "[nltk_data] Downloading package stopwords to\n",
      "[nltk_data]     /Users/surichen/nltk_data...\n",
      "[nltk_data]   Package stopwords is already up-to-date!\n"
     ]
    },
    {
     "data": {
      "text/plain": [
       "True"
      ]
     },
     "execution_count": 370,
     "metadata": {},
     "output_type": "execute_result"
    }
   ],
   "source": [
    "#Remove Stopwords and Search Keywords\n",
    "nltk.download('stopwords')"
   ]
  },
  {
   "cell_type": "code",
   "execution_count": 419,
   "metadata": {},
   "outputs": [],
   "source": [
    "stop_words = set(stopwords.words('english'))"
   ]
  },
  {
   "cell_type": "code",
   "execution_count": 432,
   "metadata": {},
   "outputs": [],
   "source": [
    "stop_words.remove('don\\'t')\n",
    "stop_words.add('keto')"
   ]
  },
  {
   "cell_type": "code",
   "execution_count": 433,
   "metadata": {},
   "outputs": [],
   "source": [
    "text_df['text'] = text_df['text'].apply(lambda x: \" \".join(x for x in x.split() if x not in stop_words))"
   ]
  },
  {
   "cell_type": "code",
   "execution_count": 434,
   "metadata": {},
   "outputs": [],
   "source": [
    "words_cl=pd.Series(' '.join(text_df['text']).split()).value_counts().head(30)"
   ]
  },
  {
   "cell_type": "code",
   "execution_count": 442,
   "metadata": {},
   "outputs": [
    {
     "data": {
      "text/plain": [
       "Text(0.5, 1.0, 'Common Words Found in Tweets (Without Stop or Collection Words)')"
      ]
     },
     "execution_count": 442,
     "metadata": {},
     "output_type": "execute_result"
    },
    {
     "data": {
      "image/png": "[encoded data removed]",
      "text/plain": [
       "<Figure size 576x576 with 1 Axes>"
      ]
     },
     "metadata": {
      "needs_background": "light"
     },
     "output_type": "display_data"
    }
   ],
   "source": [
    "fig,ax=plt.subplots(figsize=(8,8))\n",
    "ax=sns.barplot(y=words_cl.index[:20],x=words_cl[:20],palette='RdPu_r')\n",
    "ax.set_title(\"Common Words Found in Tweets (Without Stop or Collection Words)\")"
   ]
  },
  {
   "cell_type": "code",
   "execution_count": 443,
   "metadata": {},
   "outputs": [],
   "source": [
    "# Explore Co-occuring Words- Bigrams"
   ]
  },
  {
   "cell_type": "code",
   "execution_count": null,
   "metadata": {},
   "outputs": [],
   "source": []
  },
  {
   "cell_type": "code",
   "execution_count": 464,
   "metadata": {},
   "outputs": [
    {
     "data": {
      "text/plain": [
       "[('wine', 'anyone'),\n",
       " ('anyone', 'lollis'),\n",
       " ('lollis', 'low'),\n",
       " ('low', 'carb'),\n",
       " ('carb', 'granola'),\n",
       " ('granola', '20'),\n",
       " ('20', 'offtoday')]"
      ]
     },
     "execution_count": 464,
     "metadata": {},
     "output_type": "execute_result"
    }
   ],
   "source": [
    "# Create list of lists containing bigrams in tweets\n",
    "terms_bigram = [ list(nltk.bigrams(tweet.split())) for tweet in text_df['text']]\n",
    "\n",
    "# View bigrams for the first tweet\n",
    "terms_bigram[0]"
   ]
  },
  {
   "cell_type": "code",
   "execution_count": 469,
   "metadata": {},
   "outputs": [],
   "source": [
    "bigrams = list(itertools.chain(*terms_bigram))\n",
    "bigram_counts = collections.Counter(bigrams)"
   ]
  },
  {
   "cell_type": "code",
   "execution_count": 473,
   "metadata": {},
   "outputs": [
    {
     "data": {
      "text/plain": [
       "[(('low', 'carb'), 82),\n",
       " (('ketogenic', 'diet'), 81),\n",
       " (('diet', 'ketosis'), 55),\n",
       " (('ketogenic', 'ketosis'), 45),\n",
       " (('weight', 'loss'), 44),\n",
       " (('ketosis', 'lchf'), 41),\n",
       " (('ketosis', 'inspiration'), 34),\n",
       " (('happy', 'easter'), 34),\n",
       " (('lchf', 'ketodiet'), 29),\n",
       " (('best', 'diet'), 24),\n",
       " (('via', 'youtube'), 22),\n",
       " (('ketosis', 'motivation'), 21),\n",
       " (('fat', 'loss'), 21),\n",
       " (('ketodiet', 'best'), 20),\n",
       " (('diet', 'fat'), 20),\n",
       " (('loss', 'available'), 20),\n",
       " (('fat', 'ketogenic'), 16),\n",
       " (('lose', 'weight'), 15),\n",
       " (('via', 'rketo'), 14),\n",
       " (('shark', 'tank'), 14)]"
      ]
     },
     "execution_count": 473,
     "metadata": {},
     "output_type": "execute_result"
    }
   ],
   "source": [
    "bigram_counts.most_common(20)"
   ]
  },
  {
   "cell_type": "markdown",
   "metadata": {},
   "source": [
    "### Summary:\n",
    "- From the twitter post, keto diet is related to 'low carb', 'lchf diet', 'fat loss'. In terms of food, people are going for low carb, high fat, plant-based food, added-suger and starchy foods are restricted from the meal plan. Which meets the core reqiurement of keto diet. \n",
    "- However, the topics related to beverage and drinks are limited, might be an interesting aspect to be digged into."
   ]
  },
  {
   "cell_type": "code",
   "execution_count": null,
   "metadata": {},
   "outputs": [],
   "source": []
  },
  {
   "cell_type": "code",
   "execution_count": null,
   "metadata": {},
   "outputs": [],
   "source": []
  }
 ],
 "metadata": {
  "kernelspec": {
   "display_name": "Python 3",
   "language": "python",
   "name": "python3"
  },
  "language_info": {
   "codemirror_mode": {
    "name": "ipython",
    "version": 3
   },
   "file_extension": ".py",
   "mimetype": "text/x-python",
   "name": "python",
   "nbconvert_exporter": "python",
   "pygments_lexer": "ipython3",
   "version": "3.7.3"
  }
 },
 "nbformat": 4,
 "nbformat_minor": 2
}
